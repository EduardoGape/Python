{
 "cells": [
  {
   "cell_type": "code",
   "execution_count": 1,
   "id": "b749a865",
   "metadata": {},
   "outputs": [],
   "source": [
    "aluno = \"Eduardo\""
   ]
  },
  {
   "cell_type": "code",
   "execution_count": 2,
   "id": "29def0fc",
   "metadata": {},
   "outputs": [
    {
     "name": "stdout",
     "output_type": "stream",
     "text": [
      "Eduardo\n"
     ]
    }
   ],
   "source": [
    "print(aluno)"
   ]
  },
  {
   "cell_type": "code",
   "execution_count": 3,
   "id": "863f9ef4",
   "metadata": {},
   "outputs": [
    {
     "name": "stdout",
     "output_type": "stream",
     "text": [
      "7\n"
     ]
    }
   ],
   "source": [
    "# a função len() conta quantos caracters tem na variavel\n",
    "print(len(aluno))"
   ]
  },
  {
   "cell_type": "code",
   "execution_count": 4,
   "id": "c4ff9fe3",
   "metadata": {},
   "outputs": [
    {
     "name": "stdout",
     "output_type": "stream",
     "text": [
      "E\n"
     ]
    }
   ],
   "source": [
    "print(aluno[0])"
   ]
  },
  {
   "cell_type": "code",
   "execution_count": 5,
   "id": "897cad7b",
   "metadata": {},
   "outputs": [
    {
     "name": "stdout",
     "output_type": "stream",
     "text": [
      "Edu\n"
     ]
    }
   ],
   "source": [
    "print(aluno[:3])"
   ]
  },
  {
   "cell_type": "code",
   "execution_count": 6,
   "id": "645aa878",
   "metadata": {},
   "outputs": [
    {
     "name": "stdout",
     "output_type": "stream",
     "text": [
      "ardo\n"
     ]
    }
   ],
   "source": [
    "print(aluno[3:])"
   ]
  },
  {
   "cell_type": "code",
   "execution_count": 8,
   "id": "19cc3cf7",
   "metadata": {},
   "outputs": [
    {
     "name": "stdout",
     "output_type": "stream",
     "text": [
      "dua\n"
     ]
    }
   ],
   "source": [
    "print(aluno[1:4])"
   ]
  },
  {
   "cell_type": "code",
   "execution_count": 10,
   "id": "bf32d567",
   "metadata": {},
   "outputs": [
    {
     "name": "stdout",
     "output_type": "stream",
     "text": [
      "13\n"
     ]
    }
   ],
   "source": [
    "numero = 0 \n",
    "numero += 1\n",
    "numero = numero + 6\n",
    "numero = numero * 2\n",
    "numero -= 1\n",
    "print(numero)"
   ]
  },
  {
   "cell_type": "code",
   "execution_count": 12,
   "id": "106a8b10",
   "metadata": {},
   "outputs": [
    {
     "data": {
      "text/plain": [
       "'Eduardo'"
      ]
     },
     "execution_count": 12,
     "metadata": {},
     "output_type": "execute_result"
    }
   ],
   "source": [
    "alunos = [\"Eduardo\", \"caio\", \"mariana\", \"enzo\"]\n",
    "alunos[0]"
   ]
  },
  {
   "cell_type": "code",
   "execution_count": 13,
   "id": "202bb0e2",
   "metadata": {},
   "outputs": [
    {
     "name": "stdout",
     "output_type": "stream",
     "text": [
      "i\n"
     ]
    }
   ],
   "source": [
    "print(alunos[2][3])"
   ]
  },
  {
   "cell_type": "code",
   "execution_count": 16,
   "id": "3ed8bb93",
   "metadata": {},
   "outputs": [
    {
     "name": "stdout",
     "output_type": "stream",
     "text": [
      "6\n",
      "6\n"
     ]
    }
   ],
   "source": [
    "#leitura de dados \n",
    "leitura = int(input())\n",
    "print(leitura)"
   ]
  },
  {
   "cell_type": "code",
   "execution_count": 20,
   "id": "f75def29",
   "metadata": {},
   "outputs": [
    {
     "name": "stdout",
     "output_type": "stream",
     "text": [
      "['eduardo', 'caio']\n"
     ]
    }
   ],
   "source": [
    "#adiciona elemento na lista \n",
    "alunos = []\n",
    "alunos.append(\"eduardo\")\n",
    "alunos.append(\"caio\")\n",
    "print(alunos)"
   ]
  },
  {
   "cell_type": "code",
   "execution_count": 21,
   "id": "6cd75565",
   "metadata": {},
   "outputs": [
    {
     "name": "stdout",
     "output_type": "stream",
     "text": [
      "10\n",
      "9\n",
      "8\n",
      "7\n",
      "6\n",
      "5\n",
      "4\n",
      "3\n",
      "2\n",
      "1\n"
     ]
    }
   ],
   "source": [
    "qalunos = 0 \n",
    "while qalunos < 10 :\n",
    "    print(qalunos)\n",
    "    qalunos += 1 "
   ]
  },
  {
   "cell_type": "code",
   "execution_count": 23,
   "id": "ac622c25",
   "metadata": {},
   "outputs": [
    {
     "name": "stdout",
     "output_type": "stream",
     "text": [
      "Reprovado!!\n",
      "aprovado!!\n"
     ]
    }
   ],
   "source": [
    "nota1 = 5\n",
    "nota2 = 8\n",
    "if (nota1 >= 6):\n",
    "    print(\"aprovado!!\")\n",
    "else:\n",
    "    print(\"Reprovado!!\")\n",
    "    \n",
    "if (nota2 >= 6):\n",
    "    print(\"aprovado!!\")\n",
    "else:\n",
    "    print(\"Reprovado!!\")    "
   ]
  },
  {
   "cell_type": "code",
   "execution_count": 32,
   "id": "7a87cabb",
   "metadata": {},
   "outputs": [
    {
     "name": "stdout",
     "output_type": "stream",
     "text": [
      "eduardo \n",
      "5\n",
      "caio\n",
      "6\n",
      "lucas\n",
      "2\n",
      "Reprovado\n",
      "eduardo \n",
      "5.0\n",
      "---------\n",
      "Aprovado\n",
      "caio\n",
      "6.0\n",
      "---------\n",
      "Reprovado\n",
      "lucas\n",
      "2.0\n",
      "---------\n"
     ]
    }
   ],
   "source": [
    "alunos = []\n",
    "notas = []\n",
    "count  = 0 \n",
    "while count < 3:\n",
    "    auxNome = input()\n",
    "    auxNota = float(input())\n",
    "    alunos.append(auxNome)\n",
    "    notas.append(auxNota)\n",
    "    count += 1\n",
    "count = 0 \n",
    "while count < 3:\n",
    "    if(notas[count] >= 6.0):\n",
    "        print(\"Aprovado\")\n",
    "        print(alunos[count])\n",
    "        print(notas[count])\n",
    "        print(\"---------\")\n",
    "    else:\n",
    "        print(\"Reprovado\")\n",
    "        print(alunos[count])\n",
    "        print(notas[count])\n",
    "        print(\"---------\")\n",
    "    count += 1\n"
   ]
  },
  {
   "cell_type": "code",
   "execution_count": null,
   "id": "19a473f0",
   "metadata": {},
   "outputs": [],
   "source": [
    "git config --global user.email \"EduardoGape\""
   ]
  }
 ],
 "metadata": {
  "kernelspec": {
   "display_name": "Python 3 (ipykernel)",
   "language": "python",
   "name": "python3"
  },
  "language_info": {
   "codemirror_mode": {
    "name": "ipython",
    "version": 3
   },
   "file_extension": ".py",
   "mimetype": "text/x-python",
   "name": "python",
   "nbconvert_exporter": "python",
   "pygments_lexer": "ipython3",
   "version": "3.9.12"
  }
 },
 "nbformat": 4,
 "nbformat_minor": 5
}
